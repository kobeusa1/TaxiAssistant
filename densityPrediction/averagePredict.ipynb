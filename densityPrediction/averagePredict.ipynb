{
 "cells": [
  {
   "cell_type": "code",
   "execution_count": 2,
   "metadata": {
    "collapsed": true
   },
   "outputs": [],
   "source": [
    "import sys\n",
    "sys.path.append('/Users/hongyili/Untitled Folder')"
   ]
  },
  {
   "cell_type": "code",
   "execution_count": 3,
   "metadata": {
    "collapsed": true
   },
   "outputs": [],
   "source": [
    "import numpy as np\n",
    "import pandas as pd\n",
    "pd.set_option('display.width', 500)\n",
    "pd.set_option('display.max_columns', 100)\n",
    "pd.set_option('display.notebook_repr_html', True)\n",
    "from sklearn.grid_search import GridSearchCV\n",
    "from sklearn.cross_validation import train_test_split\n",
    "from sklearn.ensemble import RandomForestRegressor\n",
    "from sklearn.pipeline import Pipeline\n",
    "from sklearn.cross_validation import cross_val_score\n",
    "import geohash\n",
    "from sklearn.metrics import mean_squared_error\n",
    "import random\n",
    "import math\n",
    "import datetime"
   ]
  },
  {
   "cell_type": "code",
   "execution_count": 4,
   "metadata": {
    "collapsed": true
   },
   "outputs": [],
   "source": [
    "def cv_optimize(clf, parameters, X, y, n_jobs=1, n_folds=5, score_func=None, verbose=0):\n",
    "    if score_func:\n",
    "        gs = GridSearchCV(clf, param_grid=parameters, cv=n_folds, n_jobs=n_jobs, scoring=score_func, verbose=verbose)\n",
    "    else:\n",
    "        gs = GridSearchCV(clf, param_grid=parameters, n_jobs=n_jobs, cv=n_folds, verbose=verbose)\n",
    "    gs.fit(X, y)\n",
    "    print \"BEST\", gs.best_params_, gs.best_score_, gs.grid_scores_, gs.scorer_\n",
    "    print \"Best score: \", gs.best_score_\n",
    "    best = gs.best_estimator_\n",
    "    return best"
   ]
  },
  {
   "cell_type": "code",
   "execution_count": 5,
   "metadata": {
    "collapsed": false
   },
   "outputs": [
    {
     "data": {
      "text/plain": [
       "(868979, 14)\n"
      ]
     },
     "execution_count": 5,
     "metadata": {},
     "output_type": "execute_result"
    }
   ],
   "source": [
    "names = [\"year\",\"month\",\"day\",\"time_cat\", \"time_num\", \"time_cos\", \"time_sin\", \"day_cat\", \"day_num\", \"day_cos\", \"day_sin\", \"weekend\", \"geohash\", \"pickups\"]\n",
    "dftrain=pd.read_csv(\"/Users/hongyili/Desktop/big_Data_final/train_csv/train.csv\", header=None, names = names)\n",
    "print dftrain.shape"
   ]
  },
  {
   "cell_type": "code",
   "execution_count": 6,
   "metadata": {
    "collapsed": false
   },
   "outputs": [
    {
     "data": {
      "text/plain": [
       "(770979, 14)\n"
      ]
     },
     "execution_count": 6,
     "metadata": {},
     "output_type": "execute_result"
    }
   ],
   "source": [
    "dfvalid=pd.read_csv(\"/Users/hongyili/Desktop/big_Data_final/valid_csv/valid.csv\", header=None, names = names)\n",
    "print dfvalid.shape"
   ]
  },
  {
   "cell_type": "code",
   "execution_count": 7,
   "metadata": {
    "collapsed": true
   },
   "outputs": [],
   "source": [
    "weather=pd.read_csv(\"/Users/hongyili/Desktop/big_Data_final/nyc-weather-data.csv\")\n",
    "weather.ix[weather.SNWD <= -9999, 'SNWD'] = 0\n",
    "weather.ix[weather.SNOW <= -9999, 'SNOW'] = 0\n",
    "weather.ix[weather.AWND <= -9999, 'AWND'] = 0\n",
    "weather['year'] = (weather['DATE']/10000).apply(math.floor)\n",
    "weather['month'] = ((weather['DATE'].mod(10000))/100).apply(math.floor)\n",
    "weather['day'] = weather['DATE'].mod(100)\n",
    "weather = weather[['year','month','day','PRCP','SNWD','SNOW','TMAX','TMIN','AWND']]\n",
    "weather['PRCP'] = weather['PRCP'] / 10.\n",
    "weather['TMAX'] = weather['TMAX'] / 10.\n",
    "weather['TMIN'] = weather['TMIN'] / 10.\n",
    "weather['AWND'] = weather['AWND'] / 10. * 3.6\n",
    "weather.columns = ['year','month','day','precipitation','snow_depth','snowfall','max_temp','min_temp','avg_wind']\n",
    "weather.head()"
   ]
  },
  {
   "cell_type": "code",
   "execution_count": 8,
   "metadata": {
    "collapsed": true
   },
   "outputs": [],
   "source": [
    "def get_yearday(df):\n",
    "    date = datetime.date(df['year'],df['month'],df['day'])\n",
    "    return (date.timetuple().tm_yday-1)/365.\n",
    "def decodegeo(geo, which):\n",
    "    if len(geo) >= 6:\n",
    "        geodecoded = geohash.decode(geo)\n",
    "        return geodecoded[which]\n",
    "    else:\n",
    "        return 0\n",
    "def further_data_prep(df):\n",
    "    df = pd.merge(df, weather, how='left', on=['year','month','day'])\n",
    "    df['year_num'] = df.apply(lambda x:get_yearday(x),axis=1)\n",
    "    df['month_num'] = (df['day']-1)/30.\n",
    "    df['year_sin'] = (df['year_num'] * 2 * math.pi).apply(math.sin)\n",
    "    df['year_cos'] = (df['year_num'] * 2 * math.pi).apply(math.cos)\n",
    "    df['month_sin'] = (df['month_num'] * 2 * math.pi).apply(math.sin)\n",
    "    df['month_cos'] = (df['month_num'] * 2 * math.pi).apply(math.cos)\n",
    "    df['latitude'] = df['geohash'].apply(lambda geo: decodegeo(geo, 0))\n",
    "    df['longitude'] = df['geohash'].apply(lambda geo: decodegeo(geo, 1))\n",
    "    return df"
   ]
  },
  {
   "cell_type": "code",
   "execution_count": 9,
   "metadata": {
    "collapsed": true
   },
   "outputs": [],
   "source": [
    "dftrain = further_data_prep(dftrain)\n",
    "dfvalid = further_data_prep(dfvalid)"
   ]
  },
  {
   "cell_type": "code",
   "execution_count": 10,
   "metadata": {
    "collapsed": true
   },
   "outputs": [],
   "source": [
    "dfvalid.head()"
   ]
  },
  {
   "cell_type": "code",
   "execution_count": 11,
   "metadata": {
    "collapsed": false
   },
   "outputs": [
    {
     "data": {
      "text/plain": [
       "   year  month  day time_cat  time_num  time_cos  time_sin    day_cat   day_num   day_cos   day_sin  weekend  geohash  pickups  precipitation  snow_depth  snowfall  max_temp  min_temp  avg_wind  year_num  month_num  year_sin  year_cos  month_sin  month_cos   latitude  longitude\n",
       "0  2015      4   28    14:30  0.614583 -0.751840 -0.659346    Tuesday  0.230655  0.121251  0.992622        0  dr5ru54        1            0.0           0         0      21.7      10.0     12.60  0.320548   0.900000  0.903356 -0.428892  -0.587785   0.809017  40.754471 -74.000473\n",
       "1  2015      4    5    20:30  0.864583  0.659346 -0.751840     Sunday  0.980655  0.992622 -0.121251        1  dr5ru34        4            0.0           0         0      16.1       5.6      7.92  0.257534   0.133333  0.998880 -0.047321   0.743145   0.669131  40.743484 -73.989487\n",
       "2  2015      4   23    09:30  0.406250 -0.831470  0.555570   Thursday  0.486607 -0.996461  0.084051        0  dr5rusy       14            0.0           0         0      11.1       5.0     14.76  0.306849   0.733333  0.936881 -0.349647  -0.994522  -0.104528  40.764084 -73.973007\n",
       "3  2015      4   15    03:30  0.156250  0.555570  0.831470  Wednesday  0.308036 -0.356622  0.934249        0  dr5rgcx        1            0.0           0         0      22.2      10.6     10.08  0.284932   0.466667  0.976011 -0.217723   0.207912  -0.978148  40.746231 -74.004593\n",
       "4  2015      4    4    13:00  0.552083 -0.946930 -0.321439   Saturday  0.793155  0.267839 -0.963464        1  dr5rkwh        3            0.3           0         0      15.6       5.6     16.20  0.254795   0.100000  0.999546 -0.030120   0.587785   0.809017  40.683060 -73.975754\n"
      ]
     },
     "execution_count": 11,
     "metadata": {},
     "output_type": "execute_result"
    }
   ],
   "source": [
    "print dfvalid.head()"
   ]
  },
  {
   "cell_type": "code",
   "execution_count": 12,
   "metadata": {
    "collapsed": true
   },
   "outputs": [],
   "source": [
    "Xnames = ['month','day','latitude','longitude','year_num','year_cos','year_sin',\n",
    "          'month_cos','month_sin','day_num','day_cos','day_sin',\n",
    "          'time_num','time_cos','time_sin','max_temp','min_temp','avg_wind']\n",
    "Xtrain = dftrain[Xnames]\n",
    "Xvalid = dfvalid[Xnames]\n",
    "ytrain = np.log10(dftrain['pickups']+1)\n",
    "yvalid = np.log10(dfvalid['pickups']+1)"
   ]
  },
  {
   "cell_type": "code",
   "execution_count": 13,
   "metadata": {
    "collapsed": false
   },
   "outputs": [
    {
     "data": {
      "text/plain": [
       "(868979, 18)\n"
      ]
     },
     "execution_count": 13,
     "metadata": {},
     "output_type": "execute_result"
    }
   ],
   "source": [
    "max_samples = 2000000\n",
    "if Xtrain.shape[0] > max_samples:\n",
    "    rows = random.sample(Xtrain.index, max_samples)\n",
    "    Xtrain = Xtrain.ix[rows]\n",
    "    ytrain = ytrain.ix[rows]\n",
    "print Xtrain.shape"
   ]
  },
  {
   "cell_type": "code",
   "execution_count": 15,
   "metadata": {
    "collapsed": true
   },
   "outputs": [],
   "source": [
    "reg = RandomForestRegressor(n_estimators=1, max_depth=30, n_jobs=-1, warm_start=True)\n",
    "for n in range(1,51):\n",
    "    reg.set_params(n_estimators=n)\n",
    "    reg.fit(Xtrain,ytrain)\n",
    "    training_accuracy = reg.score(Xtrain, ytrain)\n",
    "    valid_accuracy = reg.score(Xvalid, yvalid)\n",
    "    rmsetrain = np.sqrt(mean_squared_error(reg.predict(Xtrain),ytrain))\n",
    "    rmsevalid = np.sqrt(mean_squared_error(reg.predict(Xvalid),yvalid))"
   ]
  },
  {
   "cell_type": "code",
   "execution_count": 16,
   "metadata": {
    "collapsed": true
   },
   "outputs": [],
   "source": [
    "pd.DataFrame(np.round(np.power(10,np.column_stack((reg.predict(Xvalid),yvalid))) - 1,decimals=0).astype(int)).head(20)"
   ]
  },
  {
   "cell_type": "code",
   "execution_count": 17,
   "metadata": {
    "collapsed": true
   },
   "outputs": [],
   "source": [
    "rmse = np.sqrt(mean_squared_error(reg.predict(Xvalid),yvalid))"
   ]
  },
  {
   "cell_type": "code",
   "execution_count": 18,
   "metadata": {
    "collapsed": true
   },
   "outputs": [],
   "source": [
    "import operator\n",
    "dict_feat_imp = dict(zip(list(Xtrain.columns.values),reg.feature_importances_))\n",
    "sorted_features = sorted(dict_feat_imp.items(), key=operator.itemgetter(1), reverse=True)\n",
    "sorted_features"
   ]
  },
  {
   "cell_type": "code",
   "execution_count": 19,
   "metadata": {
    "collapsed": false
   },
   "outputs": [
    {
     "data": {
      "text/plain": [
       "[('longitude', 0.35018536691969482), ('latitude', 0.3220133537075871), ('time_num', 0.065631530472179261), ('day_sin', 0.031831495796949653), ('time_cos', 0.030141845295291292), ('day_num', 0.029319608386783661), ('time_sin', 0.024142720688378517), ('day_cos', 0.023740400079713262), ('avg_wind', 0.018060849844586214), ('month_sin', 0.014656824678866634), ('year_sin', 0.014575039636754265), ('month_cos', 0.013946798218800929), ('min_temp', 0.013172274920847066), ('day', 0.013106469328412243), ('max_temp', 0.012822307514109286), ('year_cos', 0.010454026453752749), ('year_num', 0.010182849968188168), ('month', 0.0020162380891047644)]\n"
      ]
     },
     "execution_count": 19,
     "metadata": {},
     "output_type": "execute_result"
    }
   ],
   "source": [
    "print sorted_features"
   ]
  },
  {
   "cell_type": "code",
   "execution_count": 20,
   "metadata": {
    "collapsed": true
   },
   "outputs": [],
   "source": [
    "dftest=pd.read_csv(\"/Users/hongyili/Desktop/big_Data_final/test_csv/test.csv\", header=None, names = names)\n"
   ]
  },
  {
   "cell_type": "code",
   "execution_count": 21,
   "metadata": {
    "collapsed": false
   },
   "outputs": [
    {
     "data": {
      "text/plain": [
       "(2414160, 14)\n"
      ]
     },
     "execution_count": 21,
     "metadata": {},
     "output_type": "execute_result"
    }
   ],
   "source": [
    "print dftest.shape"
   ]
  },
  {
   "cell_type": "code",
   "execution_count": 22,
   "metadata": {
    "collapsed": true
   },
   "outputs": [],
   "source": [
    "dftest = further_data_prep(dftest)"
   ]
  },
  {
   "cell_type": "code",
   "execution_count": 23,
   "metadata": {
    "collapsed": true
   },
   "outputs": [],
   "source": [
    "dftest.head()"
   ]
  },
  {
   "cell_type": "code",
   "execution_count": 24,
   "metadata": {
    "collapsed": false
   },
   "outputs": [
    {
     "data": {
      "text/plain": [
       "   year  month  day time_cat  time_num  time_cos  time_sin   day_cat   day_num   day_cos   day_sin  weekend  geohash  pickups  precipitation  snow_depth  snowfall  max_temp  min_temp  avg_wind  year_num  month_num  year_sin  year_cos     month_sin  month_cos   latitude  longitude\n",
       "0  2015      5   31    06:00  0.260417 -0.065403  0.997859    Sunday  0.894345  0.787627 -0.616153        1  dr5rsp7        5           37.1           0         0      30.6      13.9      9.00  0.410959   1.000000  0.530730 -0.847541 -2.449294e-16   1.000000  40.733871 -73.999100\n",
       "1  2015      5   16    00:30  0.031250  0.980785  0.195090  Saturday  0.718750 -0.195090 -0.980785        1  dr5ryj1        1            7.6           0         0      23.9      13.9      3.24  0.369863   0.500000  0.729558 -0.683919  1.224647e-16  -1.000000  40.765457 -73.913956\n",
       "2  2015      5   16    21:00  0.885417  0.751840 -0.659346  Saturday  0.840774  0.539926 -0.841713        1  dr5rury        4            7.6           0         0      23.9      13.9      3.24  0.369863   0.500000  0.729558 -0.683919  1.224647e-16  -1.000000  40.780563 -73.983994\n",
       "3  2015      5   14    10:30  0.447917 -0.946930  0.321439  Thursday  0.492560 -0.998907  0.046733        0  dr72h8d        4            0.0           0         0      22.8      10.0      6.12  0.364384   0.433333  0.752667 -0.658402  4.067366e-01  -0.913545  40.784683 -73.978500\n",
       "4  2015      5    5    12:00  0.510417 -0.997859 -0.065403   Tuesday  0.215774  0.213396  0.976966        0  dr5ruzh        4            0.0           0         0      29.4      18.9      6.48  0.339726   0.133333  0.845249 -0.534373  7.431448e-01   0.669131  40.776443 -73.964767\n"
      ]
     },
     "execution_count": 24,
     "metadata": {},
     "output_type": "execute_result"
    }
   ],
   "source": [
    "print dftest.head()"
   ]
  },
  {
   "cell_type": "code",
   "execution_count": 25,
   "metadata": {
    "collapsed": false
   },
   "outputs": [
    {
     "data": {
      "text/plain": [
       "(48, 21)\n"
      ]
     },
     "execution_count": 25,
     "metadata": {},
     "output_type": "execute_result"
    }
   ],
   "source": [
    "time_data = dftest[(dftest['month'] == 5) & (dftest['day'] == 1)]\n",
    "time_data = time_data.drop(['geohash','pickups','year','time_cat','day_cat','latitude','longitude'], axis=1).drop_duplicates()\n",
    "print time_data.shape\n",
    "time_data.head()"
   ]
  },
  {
   "cell_type": "code",
   "execution_count": 26,
   "metadata": {
    "collapsed": false
   },
   "outputs": [
    {
     "data": {
      "text/plain": [
       "(17059, 2)\n"
      ]
     },
     "execution_count": 26,
     "metadata": {},
     "output_type": "execute_result"
    }
   ],
   "source": [
    "time_cols = list(Xtrain.columns.values)\n",
    "time_cols.remove('latitude')\n",
    "time_cols.remove('longitude')\n",
    "loc_data = Xtrain.drop(time_cols, axis=1).drop_duplicates()\n",
    "\n",
    "loc_data = loc_data[(loc_data['latitude'] > 40.5) & (loc_data['latitude'] < 41.1) &\n",
    "                    (loc_data['longitude'] > -74.1) & (loc_data['longitude'] < -73.6)]\n",
    "\n",
    "print loc_data.shape\n",
    "loc_data.head()"
   ]
  },
  {
   "cell_type": "code",
   "execution_count": 27,
   "metadata": {
    "collapsed": false
   },
   "outputs": [
    {
     "data": {
      "text/plain": [
       "818832\n",
       "   month  day   latitude  longitude  year_num  year_cos  year_sin  month_cos  month_sin  day_num   day_cos   day_sin  time_num  time_cos  time_sin  max_temp  min_temp  avg_wind\n",
       "0      5    1  40.754471 -74.000473  0.328767 -0.474951  0.880012        1.0        0.0  0.61756 -0.739379 -0.673289  0.322917 -0.442289  0.896873      17.2       9.4      8.28\n",
       "1      5    1  40.766830 -73.978500  0.328767 -0.474951  0.880012        1.0        0.0  0.61756 -0.739379 -0.673289  0.322917 -0.442289  0.896873      17.2       9.4      8.28\n",
       "2      5    1  40.765457 -73.913956  0.328767 -0.474951  0.880012        1.0        0.0  0.61756 -0.739379 -0.673289  0.322917 -0.442289  0.896873      17.2       9.4      8.28\n",
       "3      5    1  40.746231 -73.948288  0.328767 -0.474951  0.880012        1.0        0.0  0.61756 -0.739379 -0.673289  0.322917 -0.442289  0.896873      17.2       9.4      8.28\n",
       "4      5    1  40.746231 -74.004593  0.328767 -0.474951  0.880012        1.0        0.0  0.61756 -0.739379 -0.673289  0.322917 -0.442289  0.896873      17.2       9.4      8.28\n"
      ]
     },
     "execution_count": 27,
     "metadata": {},
     "output_type": "execute_result"
    }
   ],
   "source": [
    "time_data['key'] = 1\n",
    "loc_data['key'] = 1\n",
    "result = pd.merge(time_data, loc_data, on='key').drop(['key'], axis=1)\n",
    "print result.shape[0]\n",
    "result = result[Xnames]\n",
    "print result.head()"
   ]
  },
  {
   "cell_type": "code",
   "execution_count": 28,
   "metadata": {
    "collapsed": true
   },
   "outputs": [],
   "source": [
    "yy = dftest[['month','day','day_num','latitude','longitude','pickups']]\n",
    "yy = yy[(yy['month'] == 5) & (yy['day'] == 1)]\n",
    "result['pred_pickups'] = np.power(10,reg.predict(result)) - 1\n",
    "result = pd.merge(result, yy, how='left', on=['month','day','day_num','latitude','longitude'])\n",
    "result.head(10)"
   ]
  },
  {
   "cell_type": "code",
   "execution_count": 29,
   "metadata": {
    "collapsed": false
   },
   "outputs": [
    {
     "data": {
      "text/plain": [
       "818832\n"
      ]
     },
     "execution_count": 29,
     "metadata": {},
     "output_type": "execute_result"
    }
   ],
   "source": [
    "print result.shape[0]\n",
    "result.head()"
   ]
  },
  {
   "cell_type": "code",
   "execution_count": 30,
   "metadata": {
    "collapsed": true
   },
   "outputs": [],
   "source": [
    "result = result.drop(['month','day','time_cos','day_num','time_sin','day_cos','day_sin',\n",
    "                      'max_temp','min_temp','avg_wind',\n",
    "                      'year_num','year_sin','year_cos','month_sin','month_cos'], axis=1)\n",
    "result.head()"
   ]
  },
  {
   "cell_type": "code",
   "execution_count": 31,
   "metadata": {
    "collapsed": true
   },
   "outputs": [],
   "source": [
    "result.to_csv('/Users/hongyili/Desktop/big_Data_final/weather.csv')"
   ]
  }
 ],
 "metadata": {
  "kernelspec": {
   "display_name": "Apache Toree - PySpark",
   "language": "python",
   "name": "apache_toree_pyspark"
  },
  "language_info": {
   "name": "scala",
   "version": "2.10.4"
  }
 },
 "nbformat": 4,
 "nbformat_minor": 1
}
