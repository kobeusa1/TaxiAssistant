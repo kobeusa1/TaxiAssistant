{
 "cells": [
  {
   "cell_type": "code",
   "execution_count": 1,
   "metadata": {
    "collapsed": true
   },
   "outputs": [],
   "source": [
    "import re"
   ]
  },
  {
   "cell_type": "code",
   "execution_count": 2,
   "metadata": {
    "collapsed": true
   },
   "outputs": [],
   "source": [
    "num_records_dropped = 0\n",
    "num_valid_records = 0\n",
    "\n",
    "# Open file to read from\n",
    "with open('/Users/hongyili/Desktop/big_Data_final/train_csv/part-00000','r') as in_fp:\n",
    "    # Open file to write to\n",
    "    with open('/Users/hongyili/Desktop/big_Data_final/train_csv/train.csv','w') as out_fp:\n",
    "        # Each line is of the format:\n",
    "        # ((time_cat, time_num, time_cos, time_sin, day_cat, day_num, day_cos, day_sin, weekend, geohash), number of pickups)\n",
    "        for line_str in in_fp:\n",
    "            # Bool indicating if record is valid\n",
    "            write_line_out = False\n",
    "            \n",
    "            # Get rid of parens, quotes, spaces\n",
    "            line_str = re.sub('[()\\'\\s]', '', line_str)\n",
    "            line = line_str.split(',')\n",
    "            \n",
    "            # Need to check if the datetime info is valid:\n",
    "            # (i.e. if all the data for is records was present in the original datafile)\n",
    "            #     If it is valid, line should have length 11\n",
    "            #     If it is not valid, line should be [None, geohash, number of taxis]\n",
    "            if len(line) == 15:\n",
    "            # Need to check the geohash is valid:\n",
    "            # (i.e. if latitude/longitude was present in the original datafile)\n",
    "                if line[12] is not None:\n",
    "                    csv_line = \",\".join(line[0:14]) + '\\n'\n",
    "                    write_line_out = True\n",
    "            \n",
    "            # Check if the line is valid\n",
    "            if write_line_out:\n",
    "                out_fp.write(csv_line)\n",
    "                num_valid_records += 1\n",
    "            else:\n",
    "                num_records_dropped += 1"
   ]
  },
  {
   "cell_type": "code",
   "execution_count": 3,
   "metadata": {
    "collapsed": false
   },
   "outputs": [
    {
     "data": {
      "text/plain": [
       "Number of records dropped 0\n",
       "Number of valid records 868979\n"
      ]
     },
     "execution_count": 3,
     "metadata": {},
     "output_type": "execute_result"
    }
   ],
   "source": [
    "print \"Number of records dropped\",num_records_dropped\n",
    "print \"Number of valid records\",num_valid_records\n"
   ]
  },
  {
   "cell_type": "code",
   "execution_count": 4,
   "metadata": {
    "collapsed": true
   },
   "outputs": [],
   "source": [
    "num_records_dropped = 0\n",
    "num_valid_records = 0\n",
    "\n",
    "# Open file to read from\n",
    "with open('/Users/hongyili/Desktop/big_Data_final/valid_csv/part-00000','r') as in_fp:\n",
    "    # Open file to write to\n",
    "    with open('/Users/hongyili/Desktop/big_Data_final/valid_csv/valid.csv','w') as out_fp:\n",
    "        # Each line is of the format:\n",
    "        # ((time_cat, time_num, time_cos, time_sin, day_cat, day_num, day_cos, day_sin, weekend, geohash), number of pickups)\n",
    "        for line_str in in_fp:\n",
    "            # Bool indicating if record is valid\n",
    "            write_line_out = False\n",
    "            \n",
    "            # Get rid of parens, quotes, spaces\n",
    "            line_str = re.sub('[()\\'\\s]', '', line_str)\n",
    "            line = line_str.split(',')\n",
    "            \n",
    "            # Need to check if the datetime info is valid:\n",
    "            # (i.e. if all the data for is records was present in the original datafile)\n",
    "            #     If it is valid, line should have length 11\n",
    "            #     If it is not valid, line should be [None, geohash, number of taxis]\n",
    "            if len(line) == 15:\n",
    "            # Need to check the geohash is valid:\n",
    "            # (i.e. if latitude/longitude was present in the original datafile)\n",
    "                if line[12] is not None:\n",
    "                    csv_line = \",\".join(line[0:14]) + '\\n'\n",
    "                    write_line_out = True\n",
    "            \n",
    "            # Check if the line is valid\n",
    "            if write_line_out:\n",
    "                out_fp.write(csv_line)\n",
    "                num_valid_records += 1\n",
    "            else:\n",
    "                num_records_dropped += 1"
   ]
  },
  {
   "cell_type": "code",
   "execution_count": 5,
   "metadata": {
    "collapsed": false
   },
   "outputs": [
    {
     "data": {
      "text/plain": [
       "Number of records dropped 0\n",
       "Number of valid records 770979\n"
      ]
     },
     "execution_count": 5,
     "metadata": {},
     "output_type": "execute_result"
    }
   ],
   "source": [
    "print \"Number of records dropped\",num_records_dropped\n",
    "print \"Number of valid records\",num_valid_records"
   ]
  },
  {
   "cell_type": "code",
   "execution_count": 6,
   "metadata": {
    "collapsed": true
   },
   "outputs": [],
   "source": [
    "num_records_dropped = 0\n",
    "num_valid_records = 0\n",
    "\n",
    "# Open file to read from\n",
    "with open('/Users/hongyili/Desktop/big_Data_final/test_csv/part-00000','r') as in_fp:\n",
    "    # Open file to write to\n",
    "    with open('/Users/hongyili/Desktop/big_Data_final/test_csv/test.csv','w') as out_fp:\n",
    "        # Each line is of the format:\n",
    "        # ((time_cat, time_num, time_cos, time_sin, day_cat, day_num, day_cos, day_sin, weekend, geohash), number of pickups)\n",
    "        for line_str in in_fp:\n",
    "            # Bool indicating if record is valid\n",
    "            write_line_out = False\n",
    "            \n",
    "            # Get rid of parens, quotes, spaces\n",
    "            line_str = re.sub('[()\\'\\s]', '', line_str)\n",
    "            line = line_str.split(',')\n",
    "            \n",
    "            # Need to check if the datetime info is valid:\n",
    "            # (i.e. if all the data for is records was present in the original datafile)\n",
    "            #     If it is valid, line should have length 11\n",
    "            #     If it is not valid, line should be [None, geohash, number of taxis]\n",
    "            if len(line) == 15:\n",
    "            # Need to check the geohash is valid:\n",
    "            # (i.e. if latitude/longitude was present in the original datafile)\n",
    "                if line[12] is not None:\n",
    "                    csv_line = \",\".join(line[0:14]) + '\\n'\n",
    "                    write_line_out = True\n",
    "            \n",
    "            # Check if the line is valid\n",
    "            if write_line_out:\n",
    "                out_fp.write(csv_line)\n",
    "                num_valid_records += 1\n",
    "            else:\n",
    "                num_records_dropped += 1"
   ]
  },
  {
   "cell_type": "code",
   "execution_count": 7,
   "metadata": {
    "collapsed": false
   },
   "outputs": [
    {
     "data": {
      "text/plain": [
       "Number of records dropped 0\n",
       "Number of valid records 2414160\n"
      ]
     },
     "execution_count": 7,
     "metadata": {},
     "output_type": "execute_result"
    }
   ],
   "source": [
    "print \"Number of records dropped\",num_records_dropped\n",
    "print \"Number of valid records\",num_valid_records"
   ]
  },
  {
   "cell_type": "code",
   "execution_count": null,
   "metadata": {
    "collapsed": true
   },
   "outputs": [],
   "source": []
  }
 ],
 "metadata": {
  "anaconda-cloud": {},
  "kernelspec": {
   "display_name": "Apache Toree - PySpark",
   "language": "python",
   "name": "apache_toree_pyspark"
  },
  "language_info": {
   "name": "scala",
   "version": "2.10.4"
  }
 },
 "nbformat": 4,
 "nbformat_minor": 1
}
